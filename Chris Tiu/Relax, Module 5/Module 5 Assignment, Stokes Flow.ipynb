{
 "cells": [
  {
   "cell_type": "markdown",
   "metadata": {},
   "source": [
    "#### This coding assignment is to Simulate a 2D Lid-Driven Cavity Flow, for stookes flow"
   ]
  },
  {
   "cell_type": "code",
   "execution_count": 1,
   "metadata": {
    "collapsed": true
   },
   "outputs": [],
   "source": [
    "from matplotlib import pyplot\n",
    "import numpy\n",
    "%matplotlib inline\n",
    "from matplotlib import rcParams\n",
    "rcParams['font.family'] = 'serif'\n",
    "rcParams['font.size']=16"
   ]
  },
  {
   "cell_type": "code",
   "execution_count": 2,
   "metadata": {
    "collapsed": true
   },
   "outputs": [],
   "source": [
    "from mpl_toolkits.mplot3d import Axes3D\n",
    "from matplotlib import cm"
   ]
  },
  {
   "cell_type": "markdown",
   "metadata": {},
   "source": [
    "Below we import common codes used in Module 5 to help with our analysis:"
   ]
  },
  {
   "cell_type": "code",
   "execution_count": 3,
   "metadata": {
    "collapsed": true
   },
   "outputs": [],
   "source": [
    "import numpy \n",
    "from matplotlib import pyplot, cm \n",
    "from mpl_toolkits.mplot3d import Axes3D \n",
    "\n",
    " \n",
    "def plot_3D(x, y, p, elev=30, azi=45):\n",
    "    fig = pyplot.figure(figsize=(11,7), dpi=100) \n",
    "    ax = fig.gca(projection='3d') \n",
    "    X,Y = numpy.meshgrid(x,y) \n",
    "    surf = ax.plot_surface(X,Y,p[:], rstride=1, cstride=1, cmap=cm.viridis, \n",
    "    linewidth=0, antialiased=False) \n",
    "    ax.set_xlabel('$x$') \n",
    "    ax.set_ylabel('$y$') \n",
    "    ax.set_zlabel('$z$') \n",
    "    ax.view_init(elev,azi) \n",
    " \n",
    " \n",
    "\n",
    "def L1norm(new, old):\n",
    "    norm = numpy.sum(numpy.abs(new-old))\n",
    "    return norm"
   ]
  },
  {
   "cell_type": "markdown",
   "metadata": {
    "collapsed": true
   },
   "source": [
    "It appears that our governing equations are a laplace equation and a Poisson equation:\n",
    "\n",
    "Laplace: $$\\triangledown^{2}u=0 \\longrightarrow \\frac{\\partial^{2}u}{\\partial x^{2}}+\\frac{\\partial^{2}u}{\\partial y^{2}}=0$$\n",
    "\n",
    "Poisson: $$\\triangledown^{2}u=f  \\longrightarrow \\frac{\\partial^{2}u}{\\partial x^{2}}+\\frac{\\partial^{2}u}{\\partial y^{2}}=f$$"
   ]
  },
  {
   "cell_type": "markdown",
   "metadata": {},
   "source": [
    "Specifically we have:\n",
    "\n",
    " $$\\triangledown^{2}w=0 \\longrightarrow \\frac{\\partial^{2}w}{\\partial x^{2}}+\\frac{\\partial^{2}w}{\\partial y^{2}}=0$$\n",
    "\n",
    " $$\\triangledown^{2}\\psi=w  \\longrightarrow \\frac{\\partial^{2} \\psi}{\\partial x^{2}}+\\frac{\\partial^{2} \\psi}{\\partial y^{2}}=w$$"
   ]
  },
  {
   "cell_type": "markdown",
   "metadata": {},
   "source": [
    "I like to first look at the boundary conditions for this problem, since, they define the entire problem. It looks like, from notebook 5, the LHS, RHS, and Bottom BC's are all $\\psi =0$ and insulated with $\\frac{\\partial \\psi}{\\partial x(y)}=0$. And the top BC is $\\psi=0, \\frac{\\partial \\psi}{\\partial y}=0$. So all four BC's have both Nuemann and Dirichlet boundary conditions. The below cell tries to reproduce them in code form:"
   ]
  },
  {
   "cell_type": "markdown",
   "metadata": {},
   "source": [
    "we are given a relation between $w$ and $\\psi$ for the top surface Boundary condition:\n",
    "\n",
    "$$w_{i,j}=\\frac{-1}{2\\Delta y^{2}}(8\\psi_{i,j-1} - \\psi_{i,j-2}) - \\frac{3u_{j}}{\\Delta y}$$\n",
    "\n",
    "where u is the speed of the top surface at point y=j. Which is constant at 1 if j=the top."
   ]
  },
  {
   "cell_type": "markdown",
   "metadata": {},
   "source": [
    "From Notebook 1, the process for coding a Laplace equation seems to be;\n",
    "\n",
    "1. define and create meshgrid that has the analytical solution (P_an)\n",
    "2. define a function for using the L2 norm to compare two succesive potnetial fields to ensure we meet our relation criteria target. (L2_error)\n",
    "3. Define and write a function to applice the Jacobi method of iteration for the Laplace equation (Laplace2d)\n"
   ]
  },
  {
   "cell_type": "markdown",
   "metadata": {},
   "source": [
    "In my case,I will use the L2Norm function given by the assignment."
   ]
  },
  {
   "cell_type": "markdown",
   "metadata": {},
   "source": [
    "Question for myself: Should I use 1st or 2nd order Nuemann BC statements?"
   ]
  },
  {
   "cell_type": "code",
   "execution_count": 4,
   "metadata": {
    "collapsed": true
   },
   "outputs": [],
   "source": [
    "#intial parameters\n",
    "\n",
    "nx = 41\n",
    "ny = 41\n",
    "\n",
    "l=1\n",
    "h=1\n",
    "\n",
    "dx=l/(nx-1)\n",
    "dy=h/(ny-1)\n",
    "\n",
    "\n",
    "l1_target = 1e-6\n"
   ]
  },
  {
   "cell_type": "code",
   "execution_count": 5,
   "metadata": {
    "collapsed": true
   },
   "outputs": [],
   "source": [
    "#mesh\n",
    "x=numpy.linspace(0,l,nx)\n",
    "y=numpy.linspace(0,h,ny)\n",
    "\n",
    "w=numpy.zeros((ny,nx))\n",
    "psi=numpy.zeros((ny,nx))"
   ]
  },
  {
   "cell_type": "code",
   "execution_count": 6,
   "metadata": {
    "collapsed": false
   },
   "outputs": [
    {
     "name": "stdout",
     "output_type": "stream",
     "text": [
      "[[ 0.  0.  0. ...,  0.  0.  0.]\n",
      " [ 0.  0.  0. ...,  0.  0.  0.]\n",
      " [ 0.  0.  0. ...,  0.  0.  0.]\n",
      " ..., \n",
      " [ 0.  0.  0. ...,  0.  0.  0.]\n",
      " [ 0.  0.  0. ...,  0.  0.  0.]\n",
      " [ 0.  0.  0. ...,  0.  0.  0.]]\n",
      "[[ 0.  0.  0. ...,  0.  0.  0.]\n",
      " [ 0.  0.  0. ...,  0.  0.  0.]\n",
      " [ 0.  0.  0. ...,  0.  0.  0.]\n",
      " ..., \n",
      " [ 0.  0.  0. ...,  0.  0.  0.]\n",
      " [ 0.  0.  0. ...,  0.  0.  0.]\n",
      " [ 0.  0.  0. ...,  0.  0.  0.]]\n",
      "0.0\n"
     ]
    }
   ],
   "source": [
    "print(w)\n",
    "print(psi)\n",
    "print(psi[0,1])"
   ]
  },
  {
   "cell_type": "markdown",
   "metadata": {},
   "source": [
    "And now the answers:"
   ]
  },
  {
   "cell_type": "raw",
   "metadata": {
    "collapsed": false
   },
   "source": [
    "\n",
    "wnorm=1\n",
    "psinorm=1\n",
    "u=numpy.linspace(0,1, nx)\n",
    "u[:]=1                    #array for the speed at the top of the surface\n",
    " \n",
    "\n",
    "while wnorm > l1_target:\n",
    "    \n",
    "    while psinorm>l1_target:\n",
    "        \n",
    "        wL = w.copy()\n",
    "        psiP=psi.copy()\n",
    "        \n",
    "        #Laplace\n",
    "        w[1:-1,1:-1] = .25 * (wL[1:-1,2:] + wL[1:-1, :-2] + wL[2:, 1:-1] + wL[:-2, 1:-1])\n",
    " \n",
    "        #poisson\n",
    "        psi[1:-1,1:-1] = (0.25)*(psiP[1:-1,2:] + psiP[1:-1,:-2] + psiP[2:,1:-1] + psiP[:-2,1:-1] + wL[1:-1,1:-1]*dx**2)\n",
    "        \n",
    "        #Psi BC's\n",
    "        #Dirichlet:\n",
    "        psi[:,0] = 0   #x=0\n",
    "        psi[0,:] = 0   #y=0\n",
    "        psi[:,-1] = 0   #x=l\n",
    "        psi[-1,:] = 0   #y=h\n",
    "        \n",
    "        #Nuemman (first order):\n",
    "        psi[1:-1, -1] = psi[1:-1, -2]   #x=l\n",
    "        psi[1:-1, 0] = psi[1:-1, 1]     #x=0\n",
    "        psi[0, 1:-1] = psi[1,1:-1]     #y=0\n",
    "        \n",
    "        #@y=h we have dpsi/dy = 1, we discretize \n",
    "        psi[-1,1:-1] = dy+psi[-2,1:-1]  #for this code I used a first order derivative discretized statement and\n",
    "                                           #set it equal to 1, then rearranged to get this expression\n",
    "\n",
    "        \n",
    "        #w BC's\n",
    "        \n",
    "        w[-1,1:-1]= -(1/(2*dy**2))*(8*psi[-2,1:-1] - psi[-3,1:-1]) - 3*u[1:-1]/(dy**2)     #y=h (top)\n",
    "        \n",
    "        #now, from the Module 5 Notebook for this assignment we know that we have no boundat conditions for w, so \n",
    "        #we must create them in terms of psi. We already have the discreized equation for the top surface which is\n",
    "        #an expression in psi which applies a boundary condition for w. for the notebook, we had equation (16) which \n",
    "        #was an expression for dpsi/dy but evaluated at the top edge where it equals u. In the instance where we \n",
    "        #evaluate the equation at the bottom edge, we have dpssi/dy = 0, this gives us the below expression if we\n",
    "        #re-arrange equation (16) and plug into equation (15). This is how we get the BC statements for the bottom,\n",
    "        #left, and right surfaces. \n",
    "        \n",
    "        w[0,1:-1]= -(1/(2*dy**2))*(5*psi[-1,1:-1]+psi[-3,1:-1]-8*psi[-2,1:-1])        #y=0 (Bottom) \n",
    "        \n",
    "        w[1:-1,-1]= -(1/(2*dx**2))*(5*psi[1:-1,-1]+psi[1:-1,-3]-8*psi[1:-1,-2])       #x=l (right surface)\n",
    "        w[1:-1,0]=  -(1/(2*dx**2))*(5*psi[1:-1,-1]+psi[1:-1,-3]-8*psi[1:-1,-2])       #x=0 (left surface)\n",
    "    \n",
    "        psinorm=L1norm(psiP,psi)\n",
    "        wnorm = L1norm(wL, w)\n",
    "        \n",
    "    "
   ]
  },
  {
   "cell_type": "code",
   "execution_count": 10,
   "metadata": {
    "collapsed": false
   },
   "outputs": [
    {
     "name": "stderr",
     "output_type": "stream",
     "text": [
      "C:\\Users\\ctiu\\Anaconda3\\lib\\site-packages\\ipykernel\\__main__.py:16: RuntimeWarning: overflow encountered in add\n",
      "C:\\Users\\ctiu\\Anaconda3\\lib\\site-packages\\ipykernel\\__main__.py:27: RuntimeWarning: invalid value encountered in subtract\n",
      "C:\\Users\\ctiu\\Anaconda3\\lib\\site-packages\\ipykernel\\__main__.py:28: RuntimeWarning: invalid value encountered in subtract\n",
      "C:\\Users\\ctiu\\Anaconda3\\lib\\site-packages\\ipykernel\\__main__.py:20: RuntimeWarning: invalid value encountered in subtract\n"
     ]
    }
   ],
   "source": [
    "\n",
    "wnorm=1\n",
    "psinorm=1\n",
    "u=numpy.linspace(0,1, nx)\n",
    "u[:]=1                    #array for the speed at the top of the surface\n",
    " \n",
    "\n",
    "while wnorm > l1_target:\n",
    "    \n",
    "    while psinorm>l1_target:\n",
    "        \n",
    "        wL = w.copy()\n",
    "        psiP=psi.copy()\n",
    "        \n",
    "        #Laplace\n",
    "        w[1:-1,1:-1] = .25 * (wL[1:-1,2:] + wL[1:-1, :-2] + wL[2:, 1:-1] + wL[:-2, 1:-1])\n",
    " \n",
    "        #poisson\n",
    "        psi[1:-1,1:-1] = (0.25)*(psiP[1:-1,2:] + psiP[1:-1,:-2] + psiP[2:,1:-1] + psiP[:-2,1:-1] + wL[1:-1,1:-1]*dx**2)\n",
    "        \n",
    "        #w BC's\n",
    "        \n",
    "        \n",
    "        \n",
    "        w[-1,:]= -(1/(2*dy**2))*(8*psi[-2,:] - psi[-3,1:]) - 3/(dy)     #y=h (top)\n",
    "        \n",
    "        w[0,1:-1]= -(1/(2*dy**2))*(5*psi[-1,1:-1]+psi[-3,1:-1]-8*psi[-2,1:-1])        #y=0 (Bottom) \n",
    "        w[1:-1,-1]= -(1/(2*dx**2))*(5*psi[1:-1,-1]+psi[1:-1,-3]-8*psi[1:-1,-2])       #x=l (right surface)\n",
    "        w[1:-1,0]=  -(1/(2*dx**2))*(5*psi[1:-1,-1]+psi[1:-1,-3]-8*psi[1:-1,-2])       #x=0 (left surface)\n",
    "    \n",
    "        psinorm=L1norm(psiP,psi)\n",
    "        wnorm = L1norm(wL, w)\n",
    "        \n",
    "    "
   ]
  },
  {
   "cell_type": "code",
   "execution_count": 8,
   "metadata": {
    "collapsed": false
   },
   "outputs": [
    {
     "name": "stdout",
     "output_type": "stream",
     "text": [
      "Max psi is: 0.0\n",
      "Max w is: nan\n"
     ]
    }
   ],
   "source": [
    "max_psi=numpy.max(psi)\n",
    "max_w=numpy.max(w)\n",
    "print('Max psi is:', max_psi)\n",
    "print('Max w is:', max_w)"
   ]
  },
  {
   "cell_type": "code",
   "execution_count": 9,
   "metadata": {
    "collapsed": false
   },
   "outputs": [
    {
     "name": "stderr",
     "output_type": "stream",
     "text": [
      "C:\\Users\\ctiu\\Anaconda3\\lib\\site-packages\\numpy\\core\\fromnumeric.py:2782: RuntimeWarning: overflow encountered in multiply\n",
      "  return round(decimals, out)\n",
      "C:\\Users\\ctiu\\Anaconda3\\lib\\site-packages\\numpy\\core\\fromnumeric.py:2782: RuntimeWarning: invalid value encountered in rint\n",
      "  return round(decimals, out)\n"
     ]
    },
    {
     "data": {
      "text/plain": [
       "array([             -inf,  -1.49984555e+303,  -2.02799979e+301,\n",
       "        -2.02799979e+301,  -1.49984555e+303,              -inf])"
      ]
     },
     "execution_count": 9,
     "metadata": {},
     "output_type": "execute_result"
    }
   ],
   "source": [
    "numpy.round(psiP[32,::8],4)"
   ]
  },
  {
   "cell_type": "code",
   "execution_count": null,
   "metadata": {
    "collapsed": true
   },
   "outputs": [],
   "source": []
  }
 ],
 "metadata": {
  "kernelspec": {
   "display_name": "Python 3",
   "language": "python",
   "name": "python3"
  },
  "language_info": {
   "codemirror_mode": {
    "name": "ipython",
    "version": 3
   },
   "file_extension": ".py",
   "mimetype": "text/x-python",
   "name": "python",
   "nbconvert_exporter": "python",
   "pygments_lexer": "ipython3",
   "version": "3.4.3"
  }
 },
 "nbformat": 4,
 "nbformat_minor": 0
}
