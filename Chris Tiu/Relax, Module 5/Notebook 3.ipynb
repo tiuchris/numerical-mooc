{
 "cells": [
  {
   "cell_type": "code",
   "execution_count": 1,
   "metadata": {
    "collapsed": true
   },
   "outputs": [],
   "source": [
    "import numpy\n",
    "from matplotlib import pyplot, cm\n",
    "from mpl_toolkits.mplot3d import Axes3D\n",
    "%matplotlib inline\n",
    "from matplotlib import rcParams\n",
    "rcParams['font.family']='serif'\n",
    "rcParams['font.size']=16"
   ]
  },
  {
   "cell_type": "code",
   "execution_count": 2,
   "metadata": {
    "collapsed": true
   },
   "outputs": [],
   "source": [
    "import numpy \n",
    "from matplotlib import pyplot, cm \n",
    "from mpl_toolkits.mplot3d import Axes3D \n",
    "\n",
    " \n",
    "def L2_rel_error(p, pn):\n",
    "    return numpy.sqrt(numpy.sum((p - pn)**2)/numpy.sum(pn**2)) \n",
    "\n",
    " \n",
    "def plot_3D(x, y, p, elev=30, azi=45):\n",
    "    fig = pyplot.figure(figsize=(11,7), dpi=100) \n",
    "    ax = fig.gca(projection='3d') \n",
    "    X,Y = numpy.meshgrid(x,y) \n",
    "    surf = ax.plot_surface(X,Y,p[:], rstride=1, cstride=1, cmap=cm.viridis, \n",
    "    linewidth=0, antialiased=False) \n",
    "    ax.set_xlabel('$x$') \n",
    "    ax.set_ylabel('$y$') \n",
    "    ax.set_zlabel('$z$') \n",
    "    ax.view_init(elev,azi) \n",
    " \n",
    " \n",
    "def p_analytical(x, y):\n",
    "    X,Y = numpy.meshgrid(x,y) \n",
    "    pxy = numpy.sinh(1.5*numpy.pi*Y / x[-1]) /(numpy.sinh(1.5*numpy.pi*y[-1]/x[-1]))*numpy.sin(1.5*numpy.pi*X/x[-1]) \n",
    "    return pxy "
   ]
  },
  {
   "cell_type": "code",
   "execution_count": 3,
   "metadata": {
    "collapsed": true
   },
   "outputs": [],
   "source": [
    "#initialize the grid space\n",
    "\n",
    "nx=128\n",
    "ny=128\n",
    "\n",
    "L=5\n",
    "H=5\n",
    "\n",
    "x=numpy.linspace(0,L,nx)\n",
    "y=numpy.linspace(0,H,ny)\n",
    "\n",
    "dx=L/(nx-1)\n",
    "dy=H/(ny-1)\n",
    "\n",
    "p0=numpy.zeros((ny,nx))\n",
    "\n",
    "p0[-1,:]=numpy.sin(1.5*numpy.pi*x/x[-1])"
   ]
  },
  {
   "cell_type": "code",
   "execution_count": 4,
   "metadata": {
    "collapsed": false
   },
   "outputs": [],
   "source": [
    "def laplace2d(p, target):\n",
    "    \n",
    "    norm=1\n",
    "    \n",
    "    pn=numpy.empty_like(p)\n",
    "    \n",
    "    interations=0\n",
    "    \n",
    "    while norm > target:\n",
    "        \n",
    "        pn=p.copy()\n",
    "        p[1:-1,1:-1]= 0.25*(pn[1:-1,2:] + pn[1:-1, :-2] + pn[2:,1:-1] + pn[:-2, 1:-1])\n",
    "        \n",
    "        #Nuemann BC\n",
    "        p[1:-1, -1]=0.25*(2*pn[1:-1,-2]+pn[2:,-1] +pn[:-2, -1])\n",
    "        \n",
    "        norm = numpy.sqrt(numpy.sum(p-pn)**2/numpy.sum(pn**2))\n",
    "        interations+=1\n",
    "        \n",
    "    return p, interations"
   ]
  },
  {
   "cell_type": "code",
   "execution_count": 5,
   "metadata": {
    "collapsed": true
   },
   "outputs": [],
   "source": [
    "target=1e-8"
   ]
  },
  {
   "cell_type": "code",
   "execution_count": 6,
   "metadata": {
    "collapsed": true
   },
   "outputs": [],
   "source": [
    "p, iterations=laplace2d(p0.copy(), target)"
   ]
  },
  {
   "cell_type": "code",
   "execution_count": 7,
   "metadata": {
    "collapsed": false
   },
   "outputs": [
    {
     "name": "stdout",
     "output_type": "stream",
     "text": [
      "Jacobi method took 27057 interations at toleranace 1e-08\n"
     ]
    }
   ],
   "source": [
    "print(\"Jacobi method took {} interations at toleranace {}\".format(iterations, target))"
   ]
  },
  {
   "cell_type": "code",
   "execution_count": 8,
   "metadata": {
    "collapsed": false
   },
   "outputs": [
    {
     "name": "stdout",
     "output_type": "stream",
     "text": [
      "1 loops, best of 3: 4.21 s per loop\n"
     ]
    }
   ],
   "source": [
    "%%timeit\n",
    "laplace2d(p0.copy(), target)"
   ]
  },
  {
   "cell_type": "code",
   "execution_count": 9,
   "metadata": {
    "collapsed": false
   },
   "outputs": [],
   "source": [
    "pan=p_analytical(x, y)"
   ]
  },
  {
   "cell_type": "code",
   "execution_count": 10,
   "metadata": {
    "collapsed": false
   },
   "outputs": [
    {
     "data": {
      "text/plain": [
       "7.7434413870690639e-05"
      ]
     },
     "execution_count": 10,
     "metadata": {},
     "output_type": "execute_result"
    }
   ],
   "source": [
    "L2_rel_error(p, pan)"
   ]
  },
  {
   "cell_type": "code",
   "execution_count": 11,
   "metadata": {
    "collapsed": false
   },
   "outputs": [],
   "source": [
    "def laplace2d_gauss_seidel(p, nx, ny, target):\n",
    "    \n",
    "    iterations=0\n",
    "    iter_diff=target+1\n",
    "    \n",
    "    while iter_diff>target:\n",
    "        \n",
    "        pn=p.copy()\n",
    "        iter_diff=0\n",
    "        \n",
    "        for j in range(1, ny-1):\n",
    "            \n",
    "            for i in range(1, nx-1):\n",
    "                \n",
    "                p[j,i]=0.25*(p[j,i-1]+p[j,i+1]+p[j-1,i]+p[j+1,i])\n",
    "                \n",
    "                iter_diff+=(p[j,i]-pn[j,i])**2\n",
    "                \n",
    "        #Nuemann BC\n",
    "        for j in range(1, ny-1):\n",
    "            \n",
    "            p[j,-1]=.25*(2*p[j,-2]+p[j+1,-1]+p[j-1,-1])\n",
    "            \n",
    "        iter_diff=numpy.sqrt(iter_diff/numpy.sum(pn**2))\n",
    "        iterations+=1\n",
    "        \n",
    "    return p, iterations"
   ]
  },
  {
   "cell_type": "code",
   "execution_count": 12,
   "metadata": {
    "collapsed": false
   },
   "outputs": [],
   "source": [
    "import numba\n",
    "from numba import jit"
   ]
  },
  {
   "cell_type": "code",
   "execution_count": 13,
   "metadata": {
    "collapsed": true
   },
   "outputs": [],
   "source": [
    "def fib_it(n):\n",
    "    \n",
    "    a=1\n",
    "    b=1\n",
    "    for i in range(n-2):\n",
    "        a, b = b , a+b\n",
    "        \n",
    "    return b"
   ]
  },
  {
   "cell_type": "code",
   "execution_count": 14,
   "metadata": {
    "collapsed": false
   },
   "outputs": [
    {
     "name": "stdout",
     "output_type": "stream",
     "text": [
      "1 loops, best of 3: 2.64 s per loop\n"
     ]
    }
   ],
   "source": [
    "%%timeit\n",
    "fib_it(500000)"
   ]
  },
  {
   "cell_type": "code",
   "execution_count": 15,
   "metadata": {
    "collapsed": true
   },
   "outputs": [],
   "source": [
    "@jit\n",
    "def fib_it(n):\n",
    "    \n",
    "    a=1\n",
    "    b=1\n",
    "    for i in range(n-2):\n",
    "        a, b = b , a+b\n",
    "        \n",
    "    return b"
   ]
  },
  {
   "cell_type": "code",
   "execution_count": 16,
   "metadata": {
    "collapsed": false
   },
   "outputs": [
    {
     "name": "stdout",
     "output_type": "stream",
     "text": [
      "The slowest run took 210.74 times longer than the fastest. This could mean that an intermediate result is being cached \n",
      "1000 loops, best of 3: 245 µs per loop\n"
     ]
    }
   ],
   "source": [
    "%%timeit\n",
    "fib_it(500000)"
   ]
  },
  {
   "cell_type": "code",
   "execution_count": 17,
   "metadata": {
    "collapsed": false
   },
   "outputs": [
    {
     "name": "stdout",
     "output_type": "stream",
     "text": [
      "1000 loops, best of 3: 245 µs per loop\n"
     ]
    }
   ],
   "source": [
    "%%timeit\n",
    "fib_it(500000)"
   ]
  },
  {
   "cell_type": "markdown",
   "metadata": {
    "collapsed": true
   },
   "source": [
    "@jit(nopython=True)"
   ]
  },
  {
   "cell_type": "code",
   "execution_count": 18,
   "metadata": {
    "collapsed": true
   },
   "outputs": [],
   "source": [
    "@jit(nopython=True)\n",
    "def laplace2d_jacobi(p, pn, l2_target):\n",
    "    '''Solves the Laplace equation using the Jacobi method \n",
    "    with a 5-point stencil\n",
    "    \n",
    "    Parameters:\n",
    "    ----------\n",
    "    p: 2D array of float\n",
    "        Initial potential distribution\n",
    "    pn: 2D array of float\n",
    "        Allocated array for previous potential distribution\n",
    "    l2_target: float\n",
    "        Stopping criterion\n",
    "        \n",
    "    Returns:\n",
    "    -------\n",
    "    p: 2D array of float\n",
    "        Potential distribution after relaxation\n",
    "    '''\n",
    "        \n",
    "    iterations = 0\n",
    "    iter_diff = l2_target+1 #init iter_diff to be larger than l2_target\n",
    "    denominator = 0.0\n",
    "    ny, nx = p.shape\n",
    "    l2_diff = numpy.zeros(20000)\n",
    "    \n",
    "    while iter_diff > l2_target:\n",
    "        for j in range(ny):\n",
    "            for i in range(nx):\n",
    "                pn[j,i] = p[j,i]\n",
    "                \n",
    "        iter_diff = 0.0\n",
    "        denominator = 0.0\n",
    "        \n",
    "        for j in range(1,ny-1):\n",
    "            for i in range(1,nx-1):\n",
    "                p[j,i] = .25 * (pn[j,i-1] + pn[j,i+1] + pn[j-1,i] + pn[j+1,i])\n",
    "                \n",
    "        \n",
    "        #Neumann 2nd-order BC\n",
    "        for j in range(1,ny-1):\n",
    "            p[j,-1] = .25 * (2*pn[j,-2] + pn[j+1,-1] + pn[j-1, -1])\n",
    "            \n",
    "            \n",
    "        for j in range(ny):\n",
    "            for i in range(nx):\n",
    "                iter_diff += (p[j,i] - pn[j,i])**2\n",
    "                denominator += (pn[j,i]*pn[j,i])\n",
    "        \n",
    "        \n",
    "        iter_diff /= denominator\n",
    "        iter_diff = iter_diff**0.5\n",
    "        l2_diff[iterations] = iter_diff\n",
    "        iterations += 1    \n",
    "        \n",
    "    return p, iterations, l2_diff"
   ]
  },
  {
   "cell_type": "code",
   "execution_count": 22,
   "metadata": {
    "collapsed": false
   },
   "outputs": [
    {
     "name": "stdout",
     "output_type": "stream",
     "text": [
      "Numba Jacobi method took 19993 iterations at tolerance 1e-08\n"
     ]
    }
   ],
   "source": [
    "p, iterations, diffj=laplace2d_jacobi(p0.copy(), p0.copy(), 1e-8)\n",
    "print(\"Numba Jacobi method took {} iterations at tolerance {}\".format(iterations, target))"
   ]
  },
  {
   "cell_type": "code",
   "execution_count": 23,
   "metadata": {
    "collapsed": false
   },
   "outputs": [
    {
     "name": "stdout",
     "output_type": "stream",
     "text": [
      "1 loops, best of 3: 704 ms per loop\n"
     ]
    }
   ],
   "source": [
    "%%timeit \n",
    "laplace2d_jacobi(p0.copy(), p0.copy(), 1e-8)"
   ]
  },
  {
   "cell_type": "code",
   "execution_count": 24,
   "metadata": {
    "collapsed": true
   },
   "outputs": [],
   "source": [
    "\n",
    "\n",
    "\n",
    "\n",
    "@jit(nopython=True)\n",
    "def laplace2d_gauss_seidel(p, pn, l2_target):\n",
    "    '''Solves the Laplace equation using Gauss-Seidel method \n",
    "    with a 5-point stencil\n",
    "    \n",
    "    Parameters:\n",
    "    ----------\n",
    "    p: 2D array of float\n",
    "        Initial potential distribution\n",
    "    pn: 2D array of float\n",
    "        Allocated array for previous potential distribution\n",
    "    l2_target: float\n",
    "        Stopping criterion\n",
    "        \n",
    "    Returns:\n",
    "    -------\n",
    "    p: 2D array of float\n",
    "        Potential distribution after relaxation\n",
    "    '''\n",
    "    \n",
    "    iterations = 0\n",
    "    iter_diff = l2_target + 1 #initialize iter_diff to be larger than l2_target\n",
    "    denominator = 0.0\n",
    "    ny, nx = p.shape\n",
    "    l2_diff = numpy.zeros(20000)\n",
    "    \n",
    "    while iter_diff > l2_target:\n",
    "        for j in range(ny):\n",
    "            for i in range(nx):\n",
    "                pn[j,i] = p[j,i]\n",
    "                \n",
    "        iter_diff = 0.0\n",
    "        denominator = 0.0\n",
    "        \n",
    "        for j in range(1,ny-1):\n",
    "            for i in range(1,nx-1):\n",
    "                p[j,i] = .25 * (p[j,i-1] + p[j,i+1] + p[j-1,i] + p[j+1,i])\n",
    "                \n",
    "        \n",
    "        #Neumann 2nd-order BC\n",
    "        for j in range(1,ny-1):\n",
    "            p[j,-1] = .25 * (2*p[j,-2] + p[j+1,-1] + p[j-1, -1])\n",
    "            \n",
    "            \n",
    "        for j in range(ny):\n",
    "            for i in range(nx):\n",
    "                iter_diff += (p[j,i] - pn[j,i])**2\n",
    "                denominator += (pn[j,i]*pn[j,i])\n",
    "        \n",
    "        \n",
    "        iter_diff /= denominator\n",
    "        iter_diff = iter_diff**0.5\n",
    "        l2_diff[iterations] = iter_diff\n",
    "        iterations += 1    \n",
    "        \n",
    "    return p, iterations, l2_diff\n"
   ]
  },
  {
   "cell_type": "code",
   "execution_count": 26,
   "metadata": {
    "collapsed": false
   },
   "outputs": [
    {
     "name": "stdout",
     "output_type": "stream",
     "text": [
      "Numba Gauss-Seidel method took 13939 iterations at tolerance 1e-08\n"
     ]
    }
   ],
   "source": [
    "\n",
    "p, iterations, l2_diffGS = laplace2d_gauss_seidel(p0.copy(), p0.copy(), 1e-8)\n",
    "\n",
    "print(\"Numba Gauss-Seidel method took {} iterations at tolerance {}\".format(iterations, target))\n"
   ]
  },
  {
   "cell_type": "code",
   "execution_count": 27,
   "metadata": {
    "collapsed": false
   },
   "outputs": [
    {
     "name": "stdout",
     "output_type": "stream",
     "text": [
      "1 loops, best of 3: 1.69 s per loop\n"
     ]
    }
   ],
   "source": [
    "%%timeit\n",
    "laplace2d_gauss_seidel(p0.copy(), p0.copy(), 1e-8)"
   ]
  },
  {
   "cell_type": "code",
   "execution_count": 28,
   "metadata": {
    "collapsed": true
   },
   "outputs": [],
   "source": [
    "@jit(nopython=True)\n",
    "def laplace2d_SOR(p, pn, l2_target, omega):\n",
    "    '''Solves the Laplace equation using SOR with a 5-point stencil\n",
    "    \n",
    "    Parameters:\n",
    "    ----------\n",
    "    p: 2D array of float\n",
    "        Initial potential distribution\n",
    "    pn: 2D array of float\n",
    "        Allocated array for previous potential distribution\n",
    "    l2_target: float\n",
    "        Stopping criterion\n",
    "    omega: float\n",
    "        Relaxation parameter\n",
    "        \n",
    "    Returns:\n",
    "    -------\n",
    "    p: 2D array of float\n",
    "        Potential distribution after relaxation\n",
    "    '''    \n",
    "    \n",
    "    iterations = 0\n",
    "    iter_diff = l2_target + 1 #initialize iter_diff to be larger than l2_target\n",
    "    denominator = 0.0\n",
    "    ny, nx = p.shape\n",
    "    l2_diff = numpy.zeros(20000)\n",
    "    \n",
    "    while iter_diff > l2_target:\n",
    "        for j in range(ny):\n",
    "            for i in range(nx):\n",
    "                pn[j,i] = p[j,i]\n",
    "                \n",
    "        iter_diff = 0.0\n",
    "        denominator = 0.0\n",
    "        \n",
    "        for j in range(1,ny-1):\n",
    "            for i in range(1,nx-1):\n",
    "                p[j,i] = (1-omega)*p[j,i] + omega*.25 * (p[j,i-1] + p[j,i+1] + p[j-1,i] + p[j+1,i])\n",
    "        \n",
    "        #Neumann 2nd-order BC\n",
    "        for j in range(1,ny-1):\n",
    "            p[j,-1] = .25 * (2*p[j,-2] + p[j+1,-1] + p[j-1, -1])\n",
    "            \n",
    "        for j in range(ny):\n",
    "            for i in range(nx):\n",
    "                iter_diff += (p[j,i] - pn[j,i])**2\n",
    "                denominator += (pn[j,i]*pn[j,i])\n",
    "        \n",
    "        \n",
    "        iter_diff /= denominator\n",
    "        iter_diff = iter_diff**0.5\n",
    "        l2_diff[iterations] = iter_diff\n",
    "        iterations += 1\n",
    "        \n",
    "    \n",
    "    return p, iterations, l2_diff"
   ]
  },
  {
   "cell_type": "code",
   "execution_count": 29,
   "metadata": {
    "collapsed": false
   },
   "outputs": [
    {
     "name": "stdout",
     "output_type": "stream",
     "text": [
      "Numba SOR method took 13939 iterations at tolerance 1e-08 with omega = 1\n"
     ]
    }
   ],
   "source": [
    "l2_target = 1e-8\n",
    "omega = 1\n",
    "p, iterations, l2_diffSOR = laplace2d_SOR(p0.copy(), p0.copy(), l2_target, omega)\n",
    "\n",
    "print(\"Numba SOR method took {} iterations\\\n",
    " at tolerance {} with omega = {}\".format(iterations, l2_target, omega))"
   ]
  },
  {
   "cell_type": "code",
   "execution_count": 30,
   "metadata": {
    "collapsed": false
   },
   "outputs": [
    {
     "name": "stdout",
     "output_type": "stream",
     "text": [
      "Numba SOR method took 7108 iterations at tolerance 1e-08 with omega = 1.5\n"
     ]
    }
   ],
   "source": [
    "l2_target = 1e-8\n",
    "omega = 1.5\n",
    "p, iterations, l2_diffSOR = laplace2d_SOR(p0.copy(), p0.copy(), l2_target, omega)\n",
    "\n",
    "print(\"Numba SOR method took {} iterations\\\n",
    " at tolerance {} with omega = {}\".format(iterations, l2_target, omega))"
   ]
  },
  {
   "cell_type": "code",
   "execution_count": 31,
   "metadata": {
    "collapsed": false
   },
   "outputs": [
    {
     "name": "stdout",
     "output_type": "stream",
     "text": [
      "1 loops, best of 3: 990 ms per loop\n"
     ]
    }
   ],
   "source": [
    "%%timeit\n",
    "laplace2d_SOR(p0.copy(), p0.copy(), l2_target, omega)"
   ]
  },
  {
   "cell_type": "code",
   "execution_count": 32,
   "metadata": {
    "collapsed": false
   },
   "outputs": [
    {
     "name": "stdout",
     "output_type": "stream",
     "text": [
      "Numba SOR method took 1110 iterations at tolerance 1e-08 with omega = 1.9521\n"
     ]
    }
   ],
   "source": [
    "l2_target = 1e-8\n",
    "omega = 2./(1 + numpy.pi/nx)\n",
    "p, iterations, l2_diffSORopt = laplace2d_SOR(p0.copy(), p0.copy(), l2_target, omega)\n",
    "\n",
    "print(\"Numba SOR method took {} iterations\\\n",
    " at tolerance {} with omega = {:.4f}\".format(iterations, l2_target, omega))"
   ]
  },
  {
   "cell_type": "code",
   "execution_count": 33,
   "metadata": {
    "collapsed": false
   },
   "outputs": [
    {
     "name": "stdout",
     "output_type": "stream",
     "text": [
      "10 loops, best of 3: 157 ms per loop\n"
     ]
    }
   ],
   "source": [
    "%%timeit\n",
    "laplace2d_SOR(p0.copy(), p0.copy(), l2_target, omega)"
   ]
  },
  {
   "cell_type": "code",
   "execution_count": 34,
   "metadata": {
    "collapsed": false
   },
   "outputs": [
    {
     "data": {
      "text/plain": [
       "7.7927433550445207e-05"
      ]
     },
     "execution_count": 34,
     "metadata": {},
     "output_type": "execute_result"
    }
   ],
   "source": [
    "L2_rel_error(p,pan)"
   ]
  },
  {
   "cell_type": "code",
   "execution_count": 37,
   "metadata": {
    "collapsed": false
   },
   "outputs": [
    {
     "ename": "SyntaxError",
     "evalue": "invalid syntax (<ipython-input-37-79a44fb49001>, line 4)",
     "output_type": "error",
     "traceback": [
      "\u001b[1;36m  File \u001b[1;32m\"<ipython-input-37-79a44fb49001>\"\u001b[1;36m, line \u001b[1;32m4\u001b[0m\n\u001b[1;33m    pyplot.semilogy(numpy.trim_zeros(12_diffJ,'b'),\u001b[0m\n\u001b[1;37m                                            ^\u001b[0m\n\u001b[1;31mSyntaxError\u001b[0m\u001b[1;31m:\u001b[0m invalid syntax\n"
     ]
    }
   ],
   "source": [
    "pyplot.figure(figsize=(8,8))\n",
    "pyplot.xlabel(r'iterations', fontsize=18)\n",
    "pyplot.ylabel(r'$L_2$-norm', fontsize=18)\n",
    "pyplot.semilogy(numpy.trim_zeros(12_diffJ,'b'),\n",
    "                'k-', lw=2, label='Jacobi')\n",
    "pyplot.semilogy(numpy.trim_zeros(l2_diffGS,'b'), \n",
    "                'k--', lw=2, label='Gauss-Seidel')\n",
    "pyplot.semilogy(numpy.trim_zeros(l2_diffSOR,'b'), \n",
    "                'g-', lw=2, label='SOR')\n",
    "pyplot.semilogy(numpy.trim_zeros(l2_diffSORopt,'b'), \n",
    "                'g--', lw=2, label='Optimized SOR')\n",
    "pyplot.legend(fontsize=16);"
   ]
  },
  {
   "cell_type": "code",
   "execution_count": null,
   "metadata": {
    "collapsed": true
   },
   "outputs": [],
   "source": []
  }
 ],
 "metadata": {
  "kernelspec": {
   "display_name": "Python 3",
   "language": "python",
   "name": "python3"
  },
  "language_info": {
   "codemirror_mode": {
    "name": "ipython",
    "version": 3
   },
   "file_extension": ".py",
   "mimetype": "text/x-python",
   "name": "python",
   "nbconvert_exporter": "python",
   "pygments_lexer": "ipython3",
   "version": "3.4.3"
  }
 },
 "nbformat": 4,
 "nbformat_minor": 0
}
